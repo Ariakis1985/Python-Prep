{
 "cells": [
  {
   "attachments": {},
   "cell_type": "markdown",
   "metadata": {},
   "source": [
    "## Funciones"
   ]
  },
  {
   "attachments": {},
   "cell_type": "markdown",
   "metadata": {},
   "source": [
    "1) Crear una función que reciba un número como parámetro y devuelva True si es primo y False si no lo es"
   ]
  },
  {
   "cell_type": "code",
   "execution_count": 16,
   "metadata": {},
   "outputs": [],
   "source": [
    "def verifica_primo(nro):\n",
    "    es_primo = True  # Variable para almacenar el resultado de la verificación de número primo\n",
    "    for i in range(2, nro):  # Iteración sobre los números desde 2 hasta nro-1\n",
    "        if nro % i == 0:  # Verificación si nro es divisible por i (no es primo)\n",
    "            es_primo = False  # Se marca la variable como False indicando que el número no es primo\n",
    "            break  # Se rompe el bucle ya que no es necesario continuar la verificación\n",
    "    return es_primo"
   ]
  },
  {
   "attachments": {},
   "cell_type": "markdown",
   "metadata": {},
   "source": [
    "2) Utilizando la función del punto 1, realizar otra función que reciba de parámetro una lista de números y devuelva sólo aquellos que son primos en otra lista"
   ]
  },
  {
   "cell_type": "code",
   "execution_count": 17,
   "metadata": {},
   "outputs": [
    {
     "data": {
      "text/plain": [
       "[1, 2, 3, 5, 7, 11, 13, 17, 19]"
      ]
     },
     "execution_count": 17,
     "metadata": {},
     "output_type": "execute_result"
    }
   ],
   "source": [
    "def extraer_primos (lista):\n",
    "    listado = []\n",
    "    for element in lista:\n",
    "        if verifica_primo(int(element)):\n",
    "            listado.append(element)\n",
    "    return listado\n",
    "\n",
    "lis_completa = [1,2,3,4,5,6,7,8,9,10,11,12,13,14,15,16,17,18,19,20]\n",
    "lista_resultante = extraer_primos(lis_completa)\n",
    "lista_resultante"
   ]
  },
  {
   "attachments": {},
   "cell_type": "markdown",
   "metadata": {},
   "source": [
    "3) Crear una función que al recibir una lista de números, devuelva el que más se repite y cuántas veces lo hace. Si hay más de un \"más repetido\", que devuelva cualquiera"
   ]
  },
  {
   "cell_type": "code",
   "execution_count": 14,
   "metadata": {},
   "outputs": [
    {
     "data": {
      "text/plain": [
       "(5, 3)"
      ]
     },
     "execution_count": 14,
     "metadata": {},
     "output_type": "execute_result"
    }
   ],
   "source": [
    "def valor_modal(lista):\n",
    "    lista_unicos = []\n",
    "    lista_repeticiones = []\n",
    "    if len(lista) == 0:\n",
    "        return None\n",
    "    for elemento in lista:\n",
    "        if elemento in lista_unicos:\n",
    "            i = lista_unicos.index(elemento)\n",
    "            lista_repeticiones[i] += 1\n",
    "        else:\n",
    "            lista_unicos.append(elemento)\n",
    "            lista_repeticiones.append(1)\n",
    "    moda = lista_unicos[0]\n",
    "    maximo = lista_repeticiones[0]\n",
    "    for i, elemento in enumerate(lista_unicos):\n",
    "        if lista_repeticiones[i] > maximo:\n",
    "            moda = lista_unicos[i]\n",
    "            maximo = lista_repeticiones[i]\n",
    "    return moda, maximo\n",
    "\n",
    "lis = [1,1,5,6,8,10,22,5,6,4,11,9,5]\n",
    "\n",
    "valor_modal(lis)"
   ]
  },
  {
   "attachments": {},
   "cell_type": "markdown",
   "metadata": {},
   "source": [
    "4) Crear una función que convierta entre grados Celsius, Farenheit y Kelvin<br>\n",
    "Fórmula 1\t: (°C × 9/5) + 32 = °F<br>\n",
    "Fórmula 2\t: °C + 273.15 = °K<br>\n",
    "Debe recibir 3 parámetros: el valor, la medida de orígen y la medida de destino\n"
   ]
  },
  {
   "cell_type": "code",
   "execution_count": 29,
   "metadata": {},
   "outputs": [
    {
     "data": {
      "text/plain": [
       "314.15"
      ]
     },
     "execution_count": 29,
     "metadata": {},
     "output_type": "execute_result"
    }
   ],
   "source": [
    "def convertir_en_grados(valor, origen, destino):\n",
    "    if origen == \"celsius\":\n",
    "        if destino == \"celsius\":\n",
    "            valor_destino = valor\n",
    "        elif destino == \"farenheit\":\n",
    "            valor_destino = valor * 9/5 + 32\n",
    "        elif destino == \"kelvin\":\n",
    "            valor_destino = valor + 273.15\n",
    "        else:\n",
    "            print(\"Parámetro de destino incorrecto\")\n",
    "    elif origen == \"farenheit\":\n",
    "        if destino == \"celsius\":\n",
    "            valor_destino = (valor - 32) * 5/9\n",
    "        elif destino == \"farenheit\":\n",
    "            valor_destino = valor\n",
    "        elif destino == \"kelvin\":\n",
    "            valor_destino = ((valor - 32) * 5/9 + 273.15)\n",
    "        else:\n",
    "            print(\"Parámetro de destino incorrecto\")\n",
    "    elif origen == \"kelvin\":\n",
    "        if destino == \"celsius\":\n",
    "            valor_destino = valor - 273.15\n",
    "        elif destino == \"farenheit\":\n",
    "            valor_destino = ((valor - 273.15) * 9/5 + 32)\n",
    "        elif destino == \"kelvin\":\n",
    "            valor_destino = valor    \n",
    "        else:\n",
    "            print(\"Parámetro de destino incorrecto\")\n",
    "    else:\n",
    "        print(\"parámetro de origen incorrecto\")\n",
    "    return valor_destino      \n",
    "\n",
    "convertir_en_grados(41, \"celsius\", \"kelvin\")"
   ]
  },
  {
   "attachments": {},
   "cell_type": "markdown",
   "metadata": {},
   "source": [
    "5) Iterando una lista con los tres valores posibles de temperatura que recibe la función del punto 5, hacer un print para cada combinación de los mismos:"
   ]
  },
  {
   "cell_type": "code",
   "execution_count": 30,
   "metadata": {},
   "outputs": [
    {
     "name": "stdout",
     "output_type": "stream",
     "text": [
      "1 grado celsius a celsius : 1\n",
      "1 grado celsius a farenheit : 33.8\n",
      "1 grado celsius a kelvin : 274.15\n",
      "1 grado farenheit a celsius : -17.22222222222222\n",
      "1 grado farenheit a farenheit : 1\n",
      "1 grado farenheit a kelvin : 255.92777777777775\n",
      "1 grado kelvin a celsius : -272.15\n",
      "1 grado kelvin a farenheit : -457.87\n",
      "1 grado kelvin a kelvin : 1\n"
     ]
    }
   ],
   "source": [
    "metrica = [\"celsius\", \"farenheit\", \"kelvin\"]\n",
    "for i in range(0, 3):\n",
    "    for j in range(0,3):\n",
    "        print(\"1 grado\", metrica[i], \"a\", metrica[j], \":\", convertir_en_grados(1, metrica[i], metrica[j]))"
   ]
  },
  {
   "attachments": {},
   "cell_type": "markdown",
   "metadata": {},
   "source": [
    "6) Armar una función que devuelva el factorial de un número. Tener en cuenta que el usuario puede equivocarse y enviar de parámetro un número no entero o negativo"
   ]
  },
  {
   "cell_type": "code",
   "execution_count": 42,
   "metadata": {},
   "outputs": [
    {
     "name": "stdout",
     "output_type": "stream",
     "text": [
      "El numero tiene que ser un entero\n"
     ]
    }
   ],
   "source": [
    "def factorial(numero):\n",
    "    if type(numero) != int:\n",
    "        return(\"El numero tiene que ser un entero\")\n",
    "    \n",
    "    if numero < 0:\n",
    "        return(\"El numero tiene que ser mayor a 0\")\n",
    "    \n",
    "    if numero <= 1:\n",
    "        return 1\n",
    "    \n",
    "    numero = numero * factorial(numero - 1)\n",
    "\n",
    "    return numero\n",
    "    \n",
    "print(factorial(1.22))"
   ]
  }
 ],
 "metadata": {
  "interpreter": {
   "hash": "c85384e4cb51c8b72350f3a8712cc8351fdc3955e32a27f9b60c6242ab125f01"
  },
  "kernelspec": {
   "display_name": "Python 3 (ipykernel)",
   "language": "python",
   "name": "python3"
  },
  "language_info": {
   "codemirror_mode": {
    "name": "ipython",
    "version": 3
   },
   "file_extension": ".py",
   "mimetype": "text/x-python",
   "name": "python",
   "nbconvert_exporter": "python",
   "pygments_lexer": "ipython3",
   "version": "3.11.4"
  }
 },
 "nbformat": 4,
 "nbformat_minor": 4
}
